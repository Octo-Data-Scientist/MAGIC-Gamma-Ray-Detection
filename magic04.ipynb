{
 "cells": [
  {
   "cell_type": "markdown",
   "id": "8ca365d7",
   "metadata": {},
   "source": [
    "## Magic Gamma Telescope Dataset"
   ]
  },
  {
   "cell_type": "code",
   "execution_count": 1,
   "id": "694a4740-3c49-4628-b7ec-cf5706e5ee02",
   "metadata": {},
   "outputs": [],
   "source": [
    "# importing libraries\n",
    "import pandas as pd\n",
    "import numpy as np"
   ]
  },
  {
   "cell_type": "code",
   "execution_count": 2,
   "id": "6f75ac3a",
   "metadata": {},
   "outputs": [],
   "source": [
    "# importing libraries for plotting\n",
    "import seaborn as sns\n",
    "import matplotlib.pyplot as plt"
   ]
  },
  {
   "cell_type": "code",
   "execution_count": null,
   "id": "5df10279",
   "metadata": {},
   "outputs": [],
   "source": [
    "# importing libraries for normalizing data\n",
    "from sklearn import neighbors\n",
    "from sklearn import preprocessing\n",
    "from sklearn.preprocessing import MinMaxScaler\n",
    "from sklearn.preprocessing import StandardScaler\n",
    "from imblearn.over_sampling import RandomOverSampler\n",
    "from imblearn.under_sampling import RandomUnderSampler"
   ]
  },
  {
   "cell_type": "code",
   "execution_count": null,
   "id": "597f2da5",
   "metadata": {},
   "outputs": [],
   "source": [
    "# importing libraries for classification report\n",
    "from sklearn import metrics \n",
    "from sklearn.metrics import classification_report\n",
    "from sklearn.model_selection import train_test_split, cross_val_score\n",
    "from sklearn.metrics import f1_score, accuracy_score, precision_score, recall_score, confusion_matrix"
   ]
  },
  {
   "cell_type": "markdown",
   "id": "a95b4b3e",
   "metadata": {},
   "source": [
    "## Dataset"
   ]
  },
  {
   "cell_type": "code",
   "execution_count": null,
   "id": "676ace7f-6ef6-46d5-9788-e46fae7b708a",
   "metadata": {},
   "outputs": [],
   "source": [
    "# accessing the data\n",
    "\n",
    "# Creating a list of features\n",
    "cols = [\"fLength\", \"fWidth\", \"fSzie\", \"fConc\", \"fConc1\", \"fAsym\", \"fM3Long\", \"fM3Trans\", \"fAlpha\", \"fDist\", \"class\"]\n",
    "\n",
    "# Adding the attributes as an argument for pandas to export into the data frame\n",
    "tel_df = pd.read_csv(\"./data/magic04.data\", names = cols)"
   ]
  },
  {
   "cell_type": "code",
   "execution_count": null,
   "id": "fc85d9dd-e818-431c-b207-4a4432aea071",
   "metadata": {},
   "outputs": [],
   "source": [
    "# Displays the first five rows of data\n",
    "tel_df.head()"
   ]
  },
  {
   "cell_type": "code",
   "execution_count": null,
   "id": "23dc2731-a74f-49da-b5a6-f5135f6cf447",
   "metadata": {},
   "outputs": [],
   "source": [
    "print(tel_df.to_string())"
   ]
  },
  {
   "cell_type": "code",
   "execution_count": null,
   "id": "8842ad74",
   "metadata": {},
   "outputs": [],
   "source": [
    "tel_df[\"class\"].unique()"
   ]
  },
  {
   "cell_type": "code",
   "execution_count": null,
   "id": "f51a1313",
   "metadata": {},
   "outputs": [],
   "source": [
    "# displaying the number og gamma instances\n",
    "print(len(tel_df[tel_df[\"class\"] == \"g\"]))"
   ]
  },
  {
   "cell_type": "code",
   "execution_count": null,
   "id": "fa8fdba2",
   "metadata": {},
   "outputs": [],
   "source": [
    "# displaying the number og hadron instances\n",
    "print(len(tel_df[tel_df[\"class\"] == \"h\"]))"
   ]
  },
  {
   "cell_type": "code",
   "execution_count": null,
   "id": "25182d0e",
   "metadata": {},
   "outputs": [],
   "source": [
    "# changing g and h to 1 and 0\n",
    "tel_df[\"class\"] = (tel_df[\"class\"] == \"g\").astype(int)"
   ]
  },
  {
   "cell_type": "code",
   "execution_count": null,
   "id": "3b8889f6",
   "metadata": {},
   "outputs": [],
   "source": [
    "tel_df.head()"
   ]
  },
  {
   "cell_type": "code",
   "execution_count": null,
   "id": "ca9e605a",
   "metadata": {},
   "outputs": [],
   "source": [
    "labels = [\"Gamma\", \"Hadron\"]\n",
    "tel_df[\"class\"].value_counts().plot(kind = \"pie\", autopct = \"%1.2f%%\", labels = labels)\n",
    "plt.title(\"Pie distribution of Gamma and Hadron\")\n",
    "plt.show()"
   ]
  },
  {
   "cell_type": "code",
   "execution_count": null,
   "id": "fb6cbfe9",
   "metadata": {},
   "outputs": [],
   "source": [
    "# checking for duplicates\n",
    "tel_df_duplicates = tel_df.duplicated()"
   ]
  },
  {
   "cell_type": "code",
   "execution_count": null,
   "id": "8291f27a",
   "metadata": {},
   "outputs": [],
   "source": [
    "# printing duplicates\n",
    "print(tel_df[tel_df_duplicates])"
   ]
  },
  {
   "cell_type": "code",
   "execution_count": null,
   "id": "6c05e965",
   "metadata": {},
   "outputs": [],
   "source": [
    "# removing duplicates\n",
    "tel_df = tel_df.drop_duplicates()"
   ]
  },
  {
   "cell_type": "code",
   "execution_count": null,
   "id": "a68b41be",
   "metadata": {},
   "outputs": [],
   "source": [
    "tel_df.shape"
   ]
  },
  {
   "cell_type": "code",
   "execution_count": null,
   "id": "4640d9c8",
   "metadata": {},
   "outputs": [],
   "source": [
    "for label in cols[:-1]:\n",
    "    plt.hist(tel_df[tel_df[\"class\"] == 1][label], color = \"blue\", label = \"gamma\", alpha = 0.7, density = True)\n",
    "    plt.hist(tel_df[tel_df[\"class\"] == 0][label], color = \"purple\", label = \"hadron\", alpha = 0.7, density = True)\n",
    "    plt.title(label)\n",
    "    plt.ylabel(\"Probability\")\n",
    "    plt.xlabel(label)\n",
    "    plt.legend()\n",
    "    plt.show()\n",
    "    "
   ]
  },
  {
   "cell_type": "code",
   "execution_count": null,
   "id": "74cbddc5",
   "metadata": {},
   "outputs": [],
   "source": [
    "# splitting data into x and y plane\n",
    "x = tel_df.drop([\"class\"], axis = 1)    # feature matrix\n",
    "y = tel_df[\"class\"] # target vector"
   ]
  },
  {
   "cell_type": "code",
   "execution_count": null,
   "id": "c0a9fc11-1afc-4fbb-ad95-ad2a921d982c",
   "metadata": {},
   "outputs": [],
   "source": [
    "print(x.shape) \n",
    "print(y.shape)"
   ]
  },
  {
   "cell_type": "markdown",
   "id": "2d20630c",
   "metadata": {},
   "source": [
    "## Normalizing the Dataset"
   ]
  },
  {
   "cell_type": "code",
   "execution_count": null,
   "id": "ec556a79",
   "metadata": {},
   "outputs": [],
   "source": [
    "# create a MInMaxScaler object\n",
    "scaler = MinMaxScaler()\n",
    "\n",
    "# Fit the scaler to the data and transform the data\n",
    "normalized_data = scaler.fit_transform(tel_df)"
   ]
  },
  {
   "cell_type": "code",
   "execution_count": null,
   "id": "13fda632",
   "metadata": {},
   "outputs": [],
   "source": [
    "tel_df = normalized_data  "
   ]
  },
  {
   "cell_type": "markdown",
   "id": "a4c30266",
   "metadata": {},
   "source": [
    "## Random Undersampling"
   ]
  },
  {
   "cell_type": "code",
   "execution_count": null,
   "id": "3385207b",
   "metadata": {},
   "outputs": [],
   "source": [
    "rus = RandomUnderSampler()\n",
    "x, y = rus.fit_resample(x, y)\n",
    "ax = y.value_counts().plot.pie(autopct = '%.2f')\n",
    "_ = ax.set_title(\"Under-sampling\")"
   ]
  },
  {
   "cell_type": "code",
   "execution_count": null,
   "id": "86049181",
   "metadata": {},
   "outputs": [],
   "source": [
    "y.value_counts()"
   ]
  },
  {
   "cell_type": "markdown",
   "id": "039587b4",
   "metadata": {},
   "source": [
    "## Random Oversampling"
   ]
  },
  {
   "cell_type": "code",
   "execution_count": null,
   "id": "9bd86fc3",
   "metadata": {},
   "outputs": [],
   "source": [
    "ros = RandomOverSampler()\n",
    "x, y = ros.fit_resample(x, y)\n",
    "ax = y.value_counts().plot.pie(autopct = '%.2f')\n",
    "_ = ax.set_title(\"Over-sampling\")"
   ]
  },
  {
   "cell_type": "code",
   "execution_count": null,
   "id": "b1ab52b1",
   "metadata": {},
   "outputs": [],
   "source": [
    "y.value_counts()"
   ]
  },
  {
   "cell_type": "markdown",
   "id": "05af7407",
   "metadata": {},
   "source": [
    "## Train and test datasets"
   ]
  },
  {
   "cell_type": "code",
   "execution_count": null,
   "id": "25ff64bf",
   "metadata": {},
   "outputs": [],
   "source": [
    "# splitting our dataset into train and test datasets\n",
    "x_train, x_test, y_train, y_test = train_test_split(x, y, train_size = 0.7, test_size = 0.3, random_state = 42)\n",
    "x_train.shape, x_test.shape, y_train.shape, y_test.shape"
   ]
  },
  {
   "cell_type": "markdown",
   "id": "a1c91649",
   "metadata": {},
   "source": [
    "## Training the model"
   ]
  },
  {
   "cell_type": "markdown",
   "id": "899e6c28",
   "metadata": {},
   "source": [
    "## K Nearest Neighbors"
   ]
  },
  {
   "cell_type": "code",
   "execution_count": null,
   "id": "b47fa4fb",
   "metadata": {},
   "outputs": [],
   "source": [
    "from sklearn.neighbors import KNeighborsClassifier"
   ]
  },
  {
   "cell_type": "code",
   "execution_count": null,
   "id": "e29adb65",
   "metadata": {},
   "outputs": [],
   "source": [
    "knn_model = KNeighborsClassifier(n_neighbors = 3)\n",
    "knn_model.fit(x_train, y_train)"
   ]
  },
  {
   "cell_type": "code",
   "execution_count": null,
   "id": "ca9ddc56",
   "metadata": {},
   "outputs": [],
   "source": [
    "y_pred = knn_model.predict(x_test)"
   ]
  },
  {
   "cell_type": "code",
   "execution_count": null,
   "id": "83d99c7b",
   "metadata": {},
   "outputs": [],
   "source": [
    "print(classification_report(y_test, y_pred))"
   ]
  },
  {
   "cell_type": "code",
   "execution_count": null,
   "id": "9bd17b91",
   "metadata": {},
   "outputs": [],
   "source": [
    "# calculate accuracy score\n",
    "knn_model_accuracy_score = accuracy_score(y_test, y_pred)\n",
    "print(f\"Accuracy of KNN Model:{knn_model_accuracy_score * 100:.0f}%\\n\")\n",
    "\n",
    "# calculate precision score\n",
    "knn_model_precision_score = precision_score(y_test, y_pred)\n",
    "print(f\"Precision of KNN Model:{knn_model_precision_score * 100:.0f}%\\n\")\n",
    "\n",
    "# calculate recall score\n",
    "knn_model_recall_score = recall_score(y_test, y_pred)\n",
    "print(f\"Recall of KNN Model:{knn_model_recall_score * 100:.0f}%\\n\")\n",
    "\n",
    "# calculate accuracy score\n",
    "knn_model_f1_score = f1_score(y_test, y_pred)\n",
    "print(f\"F1 Score of KNN Model:{knn_model_f1_score * 100:.0f}%\")"
   ]
  },
  {
   "cell_type": "markdown",
   "id": "bca9565e-5bef-444c-ad23-001f09f0f578",
   "metadata": {},
   "source": [
    "## Support Vector Machine Classifier"
   ]
  },
  {
   "cell_type": "code",
   "execution_count": null,
   "id": "1bef9985-ddbd-4650-b5ae-4e009ae3787b",
   "metadata": {},
   "outputs": [],
   "source": [
    "from sklearn.svm import SVC"
   ]
  },
  {
   "cell_type": "code",
   "execution_count": null,
   "id": "d3458904-a345-4dc0-a6c8-589f5f550f3b",
   "metadata": {},
   "outputs": [],
   "source": [
    "# training the SVM model\n",
    "svm_model = SVC()\n",
    "svm_model.fit(x_train, y_train)"
   ]
  },
  {
   "cell_type": "code",
   "execution_count": null,
   "id": "2c2ca0dc-ddea-436b-bb38-d4c8c79f8fcb",
   "metadata": {},
   "outputs": [],
   "source": [
    "y_pred = svm_model.predict(x_test)"
   ]
  },
  {
   "cell_type": "code",
   "execution_count": null,
   "id": "2c01b638-1fda-4823-8878-5abbdd01dfaf",
   "metadata": {},
   "outputs": [],
   "source": [
    "print(classification_report(y_test, y_pred))"
   ]
  },
  {
   "cell_type": "markdown",
   "id": "1c23a9ed-4a3b-43b2-bc18-0d79f8093269",
   "metadata": {},
   "source": [
    "## Random Forest Classifier"
   ]
  },
  {
   "cell_type": "code",
   "execution_count": null,
   "id": "24699ce1-2579-4a0c-9b2c-2570a906c010",
   "metadata": {},
   "outputs": [],
   "source": [
    "from sklearn.ensemble import RandomForestClassifier"
   ]
  },
  {
   "cell_type": "code",
   "execution_count": null,
   "id": "46d22b53-2120-4719-b2d6-7c54e4a61167",
   "metadata": {},
   "outputs": [],
   "source": [
    "rf_model = RandomForestClassifier()\n",
    "rf_model = rf_model.fit(x_train, y_train)"
   ]
  },
  {
   "cell_type": "code",
   "execution_count": null,
   "id": "ee2eddd1-e6b3-4f00-b7da-e7b9554be159",
   "metadata": {},
   "outputs": [],
   "source": [
    "y_pred = rf_model.predict(x_test)"
   ]
  },
  {
   "cell_type": "code",
   "execution_count": null,
   "id": "dfe2a554-1b4d-46fa-a613-e14373013ada",
   "metadata": {},
   "outputs": [],
   "source": [
    "print(classification_report(y_test, y_pred))"
   ]
  },
  {
   "cell_type": "markdown",
   "id": "538ed3f0-bca9-4aeb-8ba9-a74e0f1de6e9",
   "metadata": {},
   "source": [
    "## Decision Tree Classifier"
   ]
  },
  {
   "cell_type": "code",
   "execution_count": null,
   "id": "96623a65-17f6-477e-b9db-2470ea9102e9",
   "metadata": {},
   "outputs": [],
   "source": [
    "from sklearn.tree import DecisionTreeClassifier"
   ]
  },
  {
   "cell_type": "code",
   "execution_count": null,
   "id": "8062a648-d46b-4b80-bc9e-7af99f8f0ef2",
   "metadata": {},
   "outputs": [],
   "source": [
    "dt_model = DecisionTreeClassifier()\n",
    "dt_model = dt_model.fit(x_train, y_train)"
   ]
  },
  {
   "cell_type": "code",
   "execution_count": null,
   "id": "b33de439-eee9-4295-b5f9-4addc7ae5f34",
   "metadata": {},
   "outputs": [],
   "source": [
    "y_pred = dt_model.predict(x_test)"
   ]
  },
  {
   "cell_type": "code",
   "execution_count": null,
   "id": "d2f9b6c0-2e22-4106-a2a4-cea4e2ddef7b",
   "metadata": {},
   "outputs": [],
   "source": [
    "print(classification_report(y_test, y_pred))"
   ]
  },
  {
   "cell_type": "markdown",
   "id": "16bcd991-7512-43ac-a890-7ca99b256bb8",
   "metadata": {},
   "source": [
    "## Naive Bayes Classifier"
   ]
  },
  {
   "cell_type": "code",
   "execution_count": null,
   "id": "28ec86d0-f308-4840-bc53-9206d4e6cefa",
   "metadata": {},
   "outputs": [],
   "source": [
    "from sklearn.naive_bayes import GaussianNB"
   ]
  },
  {
   "cell_type": "code",
   "execution_count": null,
   "id": "29f74b4f-9891-48c7-a305-2feb36afc7eb",
   "metadata": {},
   "outputs": [],
   "source": [
    "nb_model = GaussianNB()\n",
    "nb_model = nb_model.fit(x_train, y_train)"
   ]
  },
  {
   "cell_type": "code",
   "execution_count": null,
   "id": "df10b30e-1379-4755-b509-2adc067f5989",
   "metadata": {},
   "outputs": [],
   "source": [
    "y_pred = nb_model.predict(x_test)"
   ]
  },
  {
   "cell_type": "code",
   "execution_count": null,
   "id": "cc9b213a-1387-4357-b727-bc5b087af4b0",
   "metadata": {},
   "outputs": [],
   "source": [
    "print(classification_report(y_test, y_pred))"
   ]
  },
  {
   "cell_type": "markdown",
   "id": "b720c740-ea66-4386-a91a-174beec1763e",
   "metadata": {},
   "source": [
    "## Gradient Boosting Classifier"
   ]
  },
  {
   "cell_type": "code",
   "execution_count": null,
   "id": "e51c75bb-5411-4a41-88b9-bea608fe0a3d",
   "metadata": {},
   "outputs": [],
   "source": [
    "from sklearn.ensemble import GradientBoostingClassifier"
   ]
  },
  {
   "cell_type": "code",
   "execution_count": null,
   "id": "652734df-1a36-4461-bff0-790e826cde93",
   "metadata": {},
   "outputs": [],
   "source": [
    "gb_model = GradientBoostingClassifier()\n",
    "gb_model = gb_model.fit(x_train, y_train)"
   ]
  },
  {
   "cell_type": "code",
   "execution_count": null,
   "id": "b18d3122-1ea3-4a43-b95c-7e1b5a003822",
   "metadata": {},
   "outputs": [],
   "source": [
    "y_pred = gb_model.predict(x_test)"
   ]
  },
  {
   "cell_type": "code",
   "execution_count": null,
   "id": "12821bbd-291e-4c19-a739-bda229151e6e",
   "metadata": {},
   "outputs": [],
   "source": [
    "print(classification_report(y_test, y_pred))"
   ]
  },
  {
   "cell_type": "code",
   "execution_count": null,
   "id": "82fd6479-2df6-4af9-aafc-04e292935d63",
   "metadata": {},
   "outputs": [],
   "source": [
    "# lg_cm = metrics.confusion_matrix(y_test, y_pred)\n",
    "# cmap = \"prism\"\n",
    "# f, ax = plt.subplots(figsize = (5,5))\n",
    "# sns.heatmap(lg_cm, annot = True, linewidth = 1, fmt = \".0f\", ax = ax, cmap = cmap)\n",
    "# plt.title(\"Confusion Matrix of Logistic Regression\\n\")\n",
    "# plt.xlabel(\"Predicted label\")\n",
    "# plt.ylabel(\"True label\")\n",
    "# plt.show()"
   ]
  }
 ],
 "metadata": {
  "kernelspec": {
   "display_name": "Python 3 (ipykernel)",
   "language": "python",
   "name": "python3"
  },
  "language_info": {
   "codemirror_mode": {
    "name": "ipython",
    "version": 3
   },
   "file_extension": ".py",
   "mimetype": "text/x-python",
   "name": "python",
   "nbconvert_exporter": "python",
   "pygments_lexer": "ipython3",
   "version": "3.13.0"
  }
 },
 "nbformat": 4,
 "nbformat_minor": 5
}
